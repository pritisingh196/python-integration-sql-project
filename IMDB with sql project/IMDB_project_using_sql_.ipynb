{
  "nbformat": 4,
  "nbformat_minor": 0,
  "metadata": {
    "colab": {
      "provenance": []
    },
    "kernelspec": {
      "name": "python3",
      "display_name": "Python 3"
    },
    "language_info": {
      "name": "python"
    }
  },
  "cells": [
    {
      "cell_type": "code",
      "execution_count": 32,
      "metadata": {
        "id": "Y8r5GLCy0dRv"
      },
      "outputs": [],
      "source": [
        "import numpy as np\n",
        "import pandas as pd\n",
        "import os\n",
        "import sqlite3 as sql\n",
        "\n"
      ]
    },
    {
      "cell_type": "code",
      "source": [
        "database='/content/movies.sqlite'\n",
        "db=sql.connect(database)\n",
        "print('database is connected now !')"
      ],
      "metadata": {
        "colab": {
          "base_uri": "https://localhost:8080/"
        },
        "id": "58zKeQOY42UH",
        "outputId": "0f20e82a-b45e-4c01-c81d-e1657f729e38"
      },
      "execution_count": 33,
      "outputs": [
        {
          "output_type": "stream",
          "name": "stdout",
          "text": [
            "database is connected now !\n"
          ]
        }
      ]
    },
    {
      "cell_type": "code",
      "source": [
        "#Question 1: Can you get all data about movies?\n",
        "q1= \"\"\" select * from movies\"\"\"\n",
        "r1=pd.read_sql(q1,db)\n",
        "print(r1)"
      ],
      "metadata": {
        "colab": {
          "base_uri": "https://localhost:8080/"
        },
        "id": "PMsvUpy75Ot_",
        "outputId": "cc9f769e-2357-4847-b600-9d1b419986fb"
      },
      "execution_count": 34,
      "outputs": [
        {
          "output_type": "stream",
          "name": "stdout",
          "text": [
            "         id                            original_title     budget  popularity  \\\n",
            "0     43597                                    Avatar  237000000         150   \n",
            "1     43598  Pirates of the Caribbean: At World's End  300000000         139   \n",
            "2     43599                                   Spectre  245000000         107   \n",
            "3     43600                     The Dark Knight Rises  250000000         112   \n",
            "4     43601                               John Carter  260000000          43   \n",
            "...     ...                                       ...        ...         ...   \n",
            "4768  48395                               El Mariachi     220000          14   \n",
            "4769  48396                                 Newlyweds       9000           0   \n",
            "4770  48397                 Signed, Sealed, Delivered          0           1   \n",
            "4771  48398                          Shanghai Calling          0           0   \n",
            "4772  48399                         My Date with Drew          0           1   \n",
            "\n",
            "     release_date     revenue                                     title  \\\n",
            "0      2009-12-10  2787965087                                    Avatar   \n",
            "1      2007-05-19   961000000  Pirates of the Caribbean: At World's End   \n",
            "2      2015-10-26   880674609                                   Spectre   \n",
            "3      2012-07-16  1084939099                     The Dark Knight Rises   \n",
            "4      2012-03-07   284139100                               John Carter   \n",
            "...           ...         ...                                       ...   \n",
            "4768   1992-09-04     2040920                               El Mariachi   \n",
            "4769   2011-12-26           0                                 Newlyweds   \n",
            "4770   2013-10-13           0                 Signed, Sealed, Delivered   \n",
            "4771   2012-05-03           0                          Shanghai Calling   \n",
            "4772   2005-08-05           0                         My Date with Drew   \n",
            "\n",
            "      vote_average  vote_count  \\\n",
            "0              7.2       11800   \n",
            "1              6.9        4500   \n",
            "2              6.3        4466   \n",
            "3              7.6        9106   \n",
            "4              6.1        2124   \n",
            "...            ...         ...   \n",
            "4768           6.6         238   \n",
            "4769           5.9           5   \n",
            "4770           7.0           6   \n",
            "4771           5.7           7   \n",
            "4772           6.3          16   \n",
            "\n",
            "                                               overview  \\\n",
            "0     In the 22nd century, a paraplegic Marine is di...   \n",
            "1     Captain Barbossa, long believed to be dead, ha...   \n",
            "2     A cryptic message from Bond’s past sends him o...   \n",
            "3     Following the death of District Attorney Harve...   \n",
            "4     John Carter is a war-weary, former military ca...   \n",
            "...                                                 ...   \n",
            "4768  El Mariachi just wants to play his guitar and ...   \n",
            "4769  A newlywed couple's honeymoon is upended by th...   \n",
            "4770  \"Signed, Sealed, Delivered\" introduces a dedic...   \n",
            "4771  When ambitious New York attorney Sam is sent t...   \n",
            "4772  Ever since the second grade when he first saw ...   \n",
            "\n",
            "                                                tagline     uid  director_id  \n",
            "0                           Enter the World of Pandora.   19995         4762  \n",
            "1        At the end of the world, the adventure begins.     285         4763  \n",
            "2                                 A Plan No One Escapes  206647         4764  \n",
            "3                                       The Legend Ends   49026         4765  \n",
            "4                  Lost in our world, found in another.   49529         4766  \n",
            "...                                                 ...     ...          ...  \n",
            "4768  He didn't come looking for trouble, but troubl...    9367         5097  \n",
            "4769  A newlywed couple's honeymoon is upended by th...   72766         6485  \n",
            "4770                                               None  231617         7108  \n",
            "4771                           A New Yorker in Shanghai  126186         7109  \n",
            "4772                                               None   25975         7110  \n",
            "\n",
            "[4773 rows x 13 columns]\n"
          ]
        }
      ]
    },
    {
      "cell_type": "code",
      "source": [
        "#Question 2: How do you get all data about directors?\n",
        "q1= \"\"\"SELECT * FROM directors; \"\"\"\n",
        "r1=pd.read_sql(q1,db)\n",
        "print(r1)"
      ],
      "metadata": {
        "colab": {
          "base_uri": "https://localhost:8080/"
        },
        "id": "NWNkATAP7GPX",
        "outputId": "ff75abc2-b87d-48c6-c34b-dbf7d1acde32"
      },
      "execution_count": 35,
      "outputs": [
        {
          "output_type": "stream",
          "name": "stdout",
          "text": [
            "                   name    id  gender      uid department\n",
            "0         James Cameron  4762       2     2710  Directing\n",
            "1        Gore Verbinski  4763       2     1704  Directing\n",
            "2            Sam Mendes  4764       2       39  Directing\n",
            "3     Christopher Nolan  4765       2      525  Directing\n",
            "4        Andrew Stanton  4766       2        7  Directing\n",
            "...                 ...   ...     ...      ...        ...\n",
            "2344      Shane Carruth  7106       2    76624  Directing\n",
            "2345   Neill Dela Llana  7107       0  1174437  Directing\n",
            "2346        Scott Smith  7108       0  1219158  Directing\n",
            "2347        Daniel Hsia  7109       2   208138  Directing\n",
            "2348   Brian Herzlinger  7110       2    85563  Directing\n",
            "\n",
            "[2349 rows x 5 columns]\n"
          ]
        }
      ]
    },
    {
      "cell_type": "code",
      "source": [
        "#Question 3: Check how many movies are present in iMDB.\n",
        "q1= \"\"\"SELECT COUNT (*) from movies; \"\"\"\n",
        "r1=pd.read_sql(q1,db)\n",
        "print(r1)"
      ],
      "metadata": {
        "id": "Vx7Cdm7g8Qbe",
        "outputId": "4e113a21-0ef2-42f1-f751-bfd17d863d28",
        "colab": {
          "base_uri": "https://localhost:8080/"
        }
      },
      "execution_count": 36,
      "outputs": [
        {
          "output_type": "stream",
          "name": "stdout",
          "text": [
            "   COUNT (*)\n",
            "0       4773\n"
          ]
        }
      ]
    },
    {
      "cell_type": "code",
      "source": [
        "#Question 4: Find these 3 directors: James Cameron ; Luc Besson ; John Woo\n",
        "q1= \"\"\"SELECT * from directors where name == 'James Cameron' or name =='Luc Besson' or name =='John Woo';\"\"\"\n",
        "r1=pd.read_sql(q1,db)\n",
        "print(r1)"
      ],
      "metadata": {
        "id": "ZGRh1KSs8t0O",
        "outputId": "ffa29fa7-57da-4309-a932-f5afc2bbeac1",
        "colab": {
          "base_uri": "https://localhost:8080/"
        }
      },
      "execution_count": 37,
      "outputs": [
        {
          "output_type": "stream",
          "name": "stdout",
          "text": [
            "            name    id  gender    uid department\n",
            "0  James Cameron  4762       2   2710  Directing\n",
            "1       John Woo  4893       2  11401  Directing\n",
            "2     Luc Besson  4949       2     59  Directing\n"
          ]
        }
      ]
    },
    {
      "cell_type": "code",
      "source": [
        "#Question 5: Find all directors with name starting with Steven.\n",
        "q1= \"\"\"SELECT * from directors where name LIKE 'Steven%';\"\"\"\n",
        "r1=pd.read_sql(q1,db)\n",
        "print(r1)"
      ],
      "metadata": {
        "id": "wLG6c2ad9Rqn",
        "outputId": "9bf15adc-a924-462d-e16d-09aebf7dc921",
        "colab": {
          "base_uri": "https://localhost:8080/"
        }
      },
      "execution_count": 38,
      "outputs": [
        {
          "output_type": "stream",
          "name": "stdout",
          "text": [
            "                 name    id  gender    uid department\n",
            "0    Steven Spielberg  4799       2    488  Directing\n",
            "1   Steven Soderbergh  4909       2   1884  Directing\n",
            "2        Steven Brill  5013       2  32593  Directing\n",
            "3     Steven Zaillian  5117       2   2260  Directing\n",
            "4        Steven Quale  5216       2  93214  Directing\n",
            "5       Steven Seagal  5221       2  23880  Directing\n",
            "6  Steven E. de Souza  5390       2   1726  Directing\n",
            "7    Steven Shainberg  5803       2  67795  Directing\n",
            "8    Steven R. Monroe  6713       2  88039  Directing\n"
          ]
        }
      ]
    },
    {
      "cell_type": "code",
      "source": [
        "#Question 6: Count female directors.\n",
        "q1= \"\"\" SELECT COUNT(*) from directors where gender == 1;\"\"\"\n",
        "r1=pd.read_sql(q1,db)\n",
        "print(r1)"
      ],
      "metadata": {
        "id": "Jn4sBGZF9rsR",
        "outputId": "159d14a6-fe9d-4191-f95f-6c32d9d4018e",
        "colab": {
          "base_uri": "https://localhost:8080/"
        }
      },
      "execution_count": 39,
      "outputs": [
        {
          "output_type": "stream",
          "name": "stdout",
          "text": [
            "   COUNT(*)\n",
            "0       150\n"
          ]
        }
      ]
    },
    {
      "cell_type": "code",
      "source": [
        "#Question 7: Find the name of the 10th first women directors?\n",
        "q1= \"\"\" SELECT name\n",
        "FROM directors\n",
        "WHERE gender == 1\n",
        "ORDER by id asc\n",
        "limit 1 OFFSET 10;\n",
        "\"\"\"\n",
        "r1=pd.read_sql(q1,db)\n",
        "print(r1)"
      ],
      "metadata": {
        "id": "mrUYrd9g91ww",
        "outputId": "67a741a7-cd6f-4ea6-cca9-76b516c77183",
        "colab": {
          "base_uri": "https://localhost:8080/"
        }
      },
      "execution_count": 40,
      "outputs": [
        {
          "output_type": "stream",
          "name": "stdout",
          "text": [
            "           name\n",
            "0  Karyn Kusama\n"
          ]
        }
      ]
    },
    {
      "cell_type": "code",
      "source": [
        "#Question 8: What are the 3 most popular movies?\n",
        "q1= \"\"\"SELECT original_title\n",
        "FROM movies\n",
        "ORDER by popularity desc\n",
        "limit 3;\n",
        " \"\"\"\n",
        "r1=pd.read_sql(q1,db)\n",
        "print(r1)"
      ],
      "metadata": {
        "id": "xCyGPEep-BHf",
        "outputId": "fa711162-efcc-4437-cbf6-b4122c2f1b44",
        "colab": {
          "base_uri": "https://localhost:8080/"
        }
      },
      "execution_count": 41,
      "outputs": [
        {
          "output_type": "stream",
          "name": "stdout",
          "text": [
            "  original_title\n",
            "0        Minions\n",
            "1   Interstellar\n",
            "2       Deadpool\n"
          ]
        }
      ]
    },
    {
      "cell_type": "code",
      "source": [
        "#Question 9: What are the 3 most bankable movies?\n",
        "q1= \"\"\" SELECT original_title\n",
        "FROM movies\n",
        "ORDER by budget desc\n",
        "limit 3;\n",
        " \"\"\"\n",
        "r1=pd.read_sql(q1,db)\n",
        "print(r1)"
      ],
      "metadata": {
        "id": "xoKpAoVT-ZYI",
        "outputId": "811d27e3-6c4f-44e3-bbce-06c2475a919b",
        "colab": {
          "base_uri": "https://localhost:8080/"
        }
      },
      "execution_count": 42,
      "outputs": [
        {
          "output_type": "stream",
          "name": "stdout",
          "text": [
            "                                original_title\n",
            "0  Pirates of the Caribbean: On Stranger Tides\n",
            "1     Pirates of the Caribbean: At World's End\n",
            "2                      Avengers: Age of Ultron\n"
          ]
        }
      ]
    },
    {
      "cell_type": "code",
      "source": [
        "#Question 10: What is the most awarded average vote since the January 1st, 2000?\n",
        "q1= \"\"\"\n",
        " SELECT original_title FROM movies\n",
        "WHERE release_date > '2000-01-01'\n",
        "ORDER by vote_average DESC\n",
        "LIMIT 1;\n",
        "\n",
        " \"\"\"\n",
        "r1=pd.read_sql(q1,db)\n",
        "print(r1)"
      ],
      "metadata": {
        "id": "h82dL_kE-qUn",
        "outputId": "04b3126f-d971-43ac-f60b-2592c49f6b66",
        "colab": {
          "base_uri": "https://localhost:8080/"
        }
      },
      "execution_count": 43,
      "outputs": [
        {
          "output_type": "stream",
          "name": "stdout",
          "text": [
            "  original_title\n",
            "0      Sardaarji\n"
          ]
        }
      ]
    },
    {
      "cell_type": "code",
      "source": [
        "#Question 11: Which movie(s) were directed by Brenda Chapman?\n",
        "q1= \"\"\"SELECT original_title FROM movies\n",
        "JOIN directors ON directors.id = movies.director_id\n",
        "WHERE directors.name = 'Brenda Chapman'; \"\"\"\n",
        "r1=pd.read_sql(q1,db)\n",
        "print(r1)"
      ],
      "metadata": {
        "id": "eW3FqjhD-2VX",
        "outputId": "d230bb82-8da3-48b5-81b3-bcb97f0cdf5c",
        "colab": {
          "base_uri": "https://localhost:8080/"
        }
      },
      "execution_count": 44,
      "outputs": [
        {
          "output_type": "stream",
          "name": "stdout",
          "text": [
            "  original_title\n",
            "0          Brave\n"
          ]
        }
      ]
    },
    {
      "cell_type": "code",
      "source": [
        "#Question 12: Whose director made the most movies?\n",
        "q1= \"\"\"SELECT name FROM directors\n",
        "JOIN movies ON directors.id = movies.director_id\n",
        "GROUP BY director_id ORDER BY count(name) DESC\n",
        "limit 1; \"\"\"\n",
        "r1=pd.read_sql(q1,db)\n",
        "print(r1)"
      ],
      "metadata": {
        "id": "xbpa3JtT_I-2",
        "outputId": "6bf4f418-03a5-4f3c-8ebb-e6e3e803c677",
        "colab": {
          "base_uri": "https://localhost:8080/"
        }
      },
      "execution_count": 45,
      "outputs": [
        {
          "output_type": "stream",
          "name": "stdout",
          "text": [
            "               name\n",
            "0  Steven Spielberg\n"
          ]
        }
      ]
    },
    {
      "cell_type": "code",
      "source": [
        "#Question 13: Whose director is the most bankable?\n",
        "q1= \"\"\"\n",
        "SELECT name FROM directors\n",
        "JOIN movies ON directors.id = movies.director_id\n",
        "GROUP BY director_id ORDER BY sum(budget) DESC\n",
        "limit 1;\n",
        "\n",
        " \"\"\"\n",
        "r1=pd.read_sql(q1,db)\n",
        "print(r1)"
      ],
      "metadata": {
        "id": "dctEI9X__Vo-",
        "outputId": "e6241a22-ab51-445e-d0ee-92d50acb419e",
        "colab": {
          "base_uri": "https://localhost:8080/"
        }
      },
      "execution_count": 46,
      "outputs": [
        {
          "output_type": "stream",
          "name": "stdout",
          "text": [
            "               name\n",
            "0  Steven Spielberg\n"
          ]
        }
      ]
    }
  ]
}